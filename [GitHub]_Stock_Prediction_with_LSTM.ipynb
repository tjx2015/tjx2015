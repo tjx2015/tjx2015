{
  "nbformat": 4,
  "nbformat_minor": 0,
  "metadata": {
    "kernelspec": {
      "name": "python3",
      "display_name": "Python 3"
    },
    "colab": {
      "name": "[GitHub] Stock_Prediction_with_LSTM.ipynb",
      "provenance": [],
      "collapsed_sections": []
    },
    "accelerator": "GPU"
  },
  "cells": [
    {
      "cell_type": "markdown",
      "metadata": {
        "id": "vGbT1dgk2h0D"
      },
      "source": [
        "# Executive Summary\n",
        "\n",
        "### **Objective:** Predict Apple stock 7 days in advance using a Recurrent Neural Network (RNN) regressor and Long Short-Term Memory (LSTM) architecture for optimization\n",
        "\n",
        "#### **Reference**: \n",
        "- This is a Pytorch version of the original Keras LSTM Stock Predictor provided by [Super DataScience](https://www.superdatascience.com/deep-learning/)\n",
        "- More details of LTSM can be found in [Wikipedia](https://en.wikipedia.org/wiki/Long_short-term_memory) \n",
        "\n",
        "#### **Critical Steps in the Analysis**:\n",
        "- Load data (5 years/1251 trading days of historical price for Apple stock)\n",
        "- Process data \n",
        "    - normalize the series to lie in the range [0,1] [using this scikit function](http://scikit-learn.org/stable/modules/generated/sklearn.preprocessing.MinMaxScaler.html).\n",
        "    - cut time series into sequence for sequential prediction with the most recent pricing information\n",
        "    - Split training and testing set 4:1\n",
        "- Build and run RNN regression model\n",
        "    - layer 1 using LSTM module with 5 hidden units\n",
        "    - layer 2 using fully connected module with one unit\n",
        "    - loss function: mean_squared_error\n",
        "- Check model performance and visualization"
      ]
    },
    {
      "cell_type": "markdown",
      "metadata": {
        "id": "boG82OJt2n4g"
      },
      "source": [
        "## Step 1: Loading the data\n",
        "\n",
        "First let's load in our time series - a history of 1251 days of Apple's stock price. Then we need to perform a number of pre-processing steps to prepare it for use with an RNN model.  First off, it is good practice to normalize time series - by normalizing its range.  This helps us avoid serious numerical issues associated how common activation functions (like tanh) transform very large (positive or negative) numbers, as well as helping us to avoid related issues when computing derivatives.\n",
        "\n",
        "Here we normalize the series to lie in the range [0,1] [using this scikit function](http://scikit-learn.org/stable/modules/generated/sklearn.preprocessing.MinMaxScaler.html)."
      ]
    },
    {
      "cell_type": "code",
      "metadata": {
        "id": "6k-jrLoP20Fm",
        "colab": {
          "base_uri": "https://localhost:8080/"
        },
        "outputId": "a1dcfb25-6e85-4d96-aa44-2365660f83f0"
      },
      "source": [
        "# download the data\n",
        "!wget https://raw.githubusercontent.com/tonylaioffer/stock-prediction-lstm-using-keras/master/data/sandp500/all_stocks_5yr.csv"
      ],
      "execution_count": null,
      "outputs": [
        {
          "output_type": "stream",
          "name": "stdout",
          "text": [
            "--2022-03-15 09:36:18--  https://raw.githubusercontent.com/tonylaioffer/stock-prediction-lstm-using-keras/master/data/sandp500/all_stocks_5yr.csv\n",
            "Resolving raw.githubusercontent.com (raw.githubusercontent.com)... 185.199.108.133, 185.199.109.133, 185.199.110.133, ...\n",
            "Connecting to raw.githubusercontent.com (raw.githubusercontent.com)|185.199.108.133|:443... connected.\n",
            "HTTP request sent, awaiting response... 200 OK\n",
            "Length: 29580549 (28M) [text/plain]\n",
            "Saving to: ‘all_stocks_5yr.csv’\n",
            "\n",
            "all_stocks_5yr.csv  100%[===================>]  28.21M   136MB/s    in 0.2s    \n",
            "\n",
            "2022-03-15 09:36:20 (136 MB/s) - ‘all_stocks_5yr.csv’ saved [29580549/29580549]\n",
            "\n"
          ]
        }
      ]
    },
    {
      "cell_type": "code",
      "metadata": {
        "id": "3-8wHDYS28-m",
        "colab": {
          "base_uri": "https://localhost:8080/"
        },
        "outputId": "c5d16fdd-a824-4a94-daf2-9ab92ab878d8"
      },
      "source": [
        "# check data loaded in directory\n",
        "!ls ."
      ],
      "execution_count": null,
      "outputs": [
        {
          "output_type": "stream",
          "name": "stdout",
          "text": [
            "all_stocks_5yr.csv  sample_data\n"
          ]
        }
      ]
    },
    {
      "cell_type": "code",
      "metadata": {
        "id": "lC_2yxKR2bSe"
      },
      "source": [
        "# download libraries for analysis and visualization\n",
        "import numpy as np\n",
        "import pandas as pd\n",
        "import matplotlib.pyplot as plt\n",
        "\n",
        "import torch.nn as nn\n",
        "import torch\n",
        "from torch.autograd import Variable\n",
        "from torch.utils.data import Dataset, DataLoader"
      ],
      "execution_count": null,
      "outputs": []
    },
    {
      "cell_type": "code",
      "metadata": {
        "id": "BvFrixdV2bSw"
      },
      "source": [
        "# Importing the training set for Apple stocks daily stock price for 5 years\n",
        "dataset = data = pd.read_csv('./all_stocks_5yr.csv')\n",
        "dataset_cl = dataset[dataset['Name']=='AAPL'].close.values"
      ],
      "execution_count": null,
      "outputs": []
    },
    {
      "cell_type": "code",
      "metadata": {
        "id": "XFvN25Yj3w9r"
      },
      "source": [
        "# Feature Scaling \n",
        "from sklearn.preprocessing import MinMaxScaler\n",
        "\n",
        "sc = MinMaxScaler(feature_range = (0, 1))\n",
        "\n",
        "# scale the data\n",
        "dataset_cl = dataset_cl.reshape(dataset_cl.shape[0], 1)\n",
        "dataset_cl = sc.fit_transform(dataset_cl)"
      ],
      "execution_count": null,
      "outputs": []
    },
    {
      "cell_type": "markdown",
      "metadata": {
        "id": "UURKEshg3g0G"
      },
      "source": [
        "## Step 2:  Cutting our time series into sequences\n",
        "\n",
        "Remember, our time series is a sequence of numbers that we can represent in general mathematically as \n",
        "\n",
        "$$s_{0},s_{1},s_{2},...,s_{P}$$\n",
        "\n",
        "where $s_{p}$ is the numerical value of the time series at time period $p$ and where $P$ is the total length of the series.  In order to apply our RNN we treat the time series prediction problem as a regression problem, and so need to use a sliding window to construct a set of associated input/output pairs to regress on.  This process is animated in the gif below.\n",
        "\n",
        "<img src=\"https://github.com/tonylaioffer/stock-prediction-lstm-using-keras/raw/master/images/timeseries_windowing_training.gif\" width=600 height=288/>\n",
        "\n",
        "For example - using a window of size T = 5 (as illustrated in the gif above) we produce a set of input/output pairs like the one shown in the table below\n",
        "\n",
        "$$\\begin{array}{c|c}\n",
        "\\text{Input} & \\text{Output}\\\\\n",
        "\\hline \\color{CornflowerBlue} {\\langle s_{1},s_{2},s_{3},s_{4},s_{5}\\rangle} & \\color{Goldenrod}{ s_{6}} \\\\\n",
        "\\ \\color{CornflowerBlue} {\\langle s_{2},s_{3},s_{4},s_{5},s_{6} \\rangle } & \\color{Goldenrod} {s_{7} } \\\\\n",
        "\\color{CornflowerBlue}  {\\vdots} & \\color{Goldenrod} {\\vdots}\\\\\n",
        "\\color{CornflowerBlue} { \\langle s_{P-5},s_{P-4},s_{P-3},s_{P-2},s_{P-1} \\rangle } & \\color{Goldenrod} {s_{P}}\n",
        "\\end{array}$$\n",
        "\n",
        "Notice here that each input is a sequence (or vector) of length 4 (and in general has length equal to the window size T) while each corresponding output is a scalar value.  Notice also how given a time series of length P and window size T = 5 as shown above, we created P - 5  input/output pairs.  More generally, for a window size T we create P - T such pairs.\n",
        "\n",
        "Now let's window the input time series as described above!  "
      ]
    },
    {
      "cell_type": "code",
      "metadata": {
        "id": "pvBLqRvm4L6k"
      },
      "source": [
        "#Create a function to process the data into 7 day look back slices\n",
        "def processData(data, lb):\n",
        "    X, Y = [], []\n",
        "    for i in range(len(data) - lb - 1):\n",
        "        X.append(data[i: (i + lb), 0])\n",
        "        Y.append(data[(i + lb), 0])\n",
        "    return np.array(X), np.array(Y)\n",
        "X, y = processData(dataset_cl, 7)\n"
      ],
      "execution_count": null,
      "outputs": []
    },
    {
      "cell_type": "markdown",
      "metadata": {
        "id": "yHsQGQ_V42G0"
      },
      "source": [
        "## Step 3: Split training and testing sets\n",
        "\n",
        "In order to perform proper testing on our dataset we will save the last 1/5 of it for validation (or testing).  \n",
        "\n",
        "Note that we are **not** splitting the dataset *randomly* as one typically would do when validating a regression model.  This is because our input/output pairs *are related temporally*.   We don't want to validate our model by training on a random subset of the series and then testing on another random subset, as this simulates the scenario that we receive new points *within the timeframe of our training set*.  \n",
        "\n",
        "We want to train on one solid chunk of the series (in our case, the first full 4/5 of it), and validate on a later chunk (the last 1/5) as this simulates how we would predict *future* values of a time series."
      ]
    },
    {
      "cell_type": "code",
      "metadata": {
        "id": "syFXDlpn45xA",
        "colab": {
          "base_uri": "https://localhost:8080/"
        },
        "outputId": "71968520-afbf-4b45-9c67-19bd42501ddb"
      },
      "source": [
        "X_train, X_test = X[:int(X.shape[0]*0.80)],X[int(X.shape[0]*0.80):]\n",
        "y_train, y_test = y[:int(y.shape[0]*0.80)],y[int(y.shape[0]*0.80):]\n",
        "print(X_train.shape[0])\n",
        "print(X_test.shape[0])\n",
        "print(y_train.shape[0])\n",
        "print(y_test.shape[0])\n",
        "\n",
        "# reshaping\n",
        "X_train = np.reshape(X_train, (X_train.shape[0], 1, X_train.shape[1]))\n",
        "X_test = np.reshape(X_test, (X_test.shape[0], 1, X_test.shape[1]))"
      ],
      "execution_count": null,
      "outputs": [
        {
          "output_type": "stream",
          "name": "stdout",
          "text": [
            "1000\n",
            "251\n",
            "1000\n",
            "251\n"
          ]
        }
      ]
    },
    {
      "cell_type": "markdown",
      "metadata": {
        "id": "GMXggue15R41"
      },
      "source": [
        "## Step 4:  Build and run an RNN regression model\n",
        "\n",
        "Having created input/output pairs out of our time series and cut this into training/testing sets, we can now begin setting up our RNN.  We use Keras to quickly build a two hidden layer RNN of the following specifications\n",
        "\n",
        "- layer 1 uses an LSTM module with 64 features in hidden state (hidden_size),  and 3 recurrent layers (num_layers)\n",
        "    - note that the expected input is 7 days of stock price (input_size = (window_size,1))\n",
        "    - drop out 10% of the outputs of each RNN layer except last layer\n",
        "    - introduce bidirectional RNN (feeding stock price in normal time order for one network and in reverse time order for another)\n",
        "- layer 2 uses a fully connected module with one unit\n",
        "- the 'mean_squared_error' loss should be used"
      ]
    },
    {
      "cell_type": "code",
      "metadata": {
        "id": "HNWryPPg2bTM"
      },
      "source": [
        "# Set up RNN regression models\n",
        "class RNN(nn.Module):\n",
        "    def __init__(self, i_size, h_size, n_layers, o_size, dropout=0.1, bidirectional=True):\n",
        "        super(RNN, self).__init__()\n",
        "        self.num_directions = bidirectional+1\n",
        "        self.rnn = nn.LSTM(\n",
        "            input_size=i_size,\n",
        "            hidden_size=h_size,\n",
        "            num_layers=n_layers,\n",
        "            dropout=dropout,\n",
        "            bidirectional=bidirectional\n",
        "        )\n",
        "        self.out = nn.Linear(h_size, o_size)\n",
        "\n",
        "    def forward(self, x, h_state):\n",
        "        r_out, hidden_state = self.rnn(x, h_state)\n",
        "        \n",
        "        hidden_size = hidden_state[-1].size(-1)\n",
        "        r_out = r_out.view(-1, self.num_directions, hidden_size)\n",
        "        outs = self.out(r_out)\n",
        "        \n",
        "        return outs, hidden_state"
      ],
      "execution_count": null,
      "outputs": []
    },
    {
      "cell_type": "code",
      "metadata": {
        "id": "SwwPpVsK2bTQ"
      },
      "source": [
        "# Specify hyper-parameters\n",
        "\n",
        "INPUT_SIZE = 7\n",
        "HIDDEN_SIZE = 64\n",
        "NUM_LAYERS = 3\n",
        "OUTPUT_SIZE = 1\n",
        "BATCH_SIZE = 128\n",
        "\n",
        "learning_rate = 0.001\n",
        "num_epochs = 300\n",
        "\n",
        "rnn = RNN(INPUT_SIZE, HIDDEN_SIZE, NUM_LAYERS, OUTPUT_SIZE,bidirectional=False)\n",
        "rnn.cuda()\n",
        "\n",
        "optimiser = torch.optim.Adam(rnn.parameters(), lr=learning_rate)\n",
        "criterion = nn.MSELoss()\n",
        "\n",
        "hidden_state = None"
      ],
      "execution_count": null,
      "outputs": []
    },
    {
      "cell_type": "code",
      "metadata": {
        "id": "BiQaghDCtNdg",
        "colab": {
          "base_uri": "https://localhost:8080/"
        },
        "outputId": "2c5ea92a-be76-4921-9956-05114e9bb9b7"
      },
      "source": [
        "# See model profile \n",
        "rnn"
      ],
      "execution_count": null,
      "outputs": [
        {
          "output_type": "execute_result",
          "data": {
            "text/plain": [
              "RNN(\n",
              "  (rnn): LSTM(7, 64, num_layers=3, dropout=0.1)\n",
              "  (out): Linear(in_features=64, out_features=1, bias=True)\n",
              ")"
            ]
          },
          "metadata": {},
          "execution_count": 15
        }
      ]
    },
    {
      "cell_type": "code",
      "metadata": {
        "id": "QlRhF5JP2bTX",
        "colab": {
          "base_uri": "https://localhost:8080/"
        },
        "outputId": "1875a524-1bfb-4383-f8c3-ed3e50b207c2"
      },
      "source": [
        "# Monitor MSE loss for each epoch and for every 20 epoch, switch off dropout for evaluation purposes \n",
        "history = []\n",
        "X_test_cuda = torch.tensor(X_test).float().cuda()\n",
        "y_test_cuda = torch.tensor(y_test).float().cuda()\n",
        "\n",
        "# we use all the data in one batch\n",
        "inputs_cuda = torch.tensor(X_train).float().cuda()\n",
        "labels_cuda = torch.tensor(y_train).float().cuda()\n",
        "\n",
        "for epoch in range(num_epochs):\n",
        "    rnn.train()\n",
        "    output, _ = rnn(inputs_cuda, hidden_state) \n",
        "    # print(output.size())\n",
        "\n",
        "    loss = criterion(output[:,0,:].view(-1), labels_cuda)\n",
        "    optimiser.zero_grad()\n",
        "    loss.backward()                     # back propagation\n",
        "    optimiser.step()                    # update the parameters\n",
        "    \n",
        "    if epoch % 20 == 0:\n",
        "        rnn.eval()\n",
        "        test_output, _ = rnn(X_test_cuda, hidden_state)\n",
        "        test_loss = criterion(test_output.view(-1), y_test_cuda)\n",
        "        print('epoch {}, loss {}, eval loss {}'.format(epoch, loss.item(), test_loss.item()))\n",
        "    else:\n",
        "        print('epoch {}, loss {}'.format(epoch, loss.item()))\n",
        "    history.append(loss.item())"
      ],
      "execution_count": null,
      "outputs": [
        {
          "output_type": "stream",
          "name": "stdout",
          "text": [
            "epoch 0, loss 0.1975467950105667, eval loss 0.7273387312889099\n",
            "epoch 1, loss 0.1732746958732605\n",
            "epoch 2, loss 0.1501857191324234\n",
            "epoch 3, loss 0.12802191078662872\n",
            "epoch 4, loss 0.10620840638875961\n",
            "epoch 5, loss 0.0850948840379715\n",
            "epoch 6, loss 0.06480320543050766\n",
            "epoch 7, loss 0.04606378450989723\n",
            "epoch 8, loss 0.03055032528936863\n",
            "epoch 9, loss 0.022137030959129333\n",
            "epoch 10, loss 0.026181379333138466\n",
            "epoch 11, loss 0.03906293585896492\n",
            "epoch 12, loss 0.04317311942577362\n",
            "epoch 13, loss 0.03807911276817322\n",
            "epoch 14, loss 0.02945636212825775\n",
            "epoch 15, loss 0.02394001930952072\n",
            "epoch 16, loss 0.021341027691960335\n",
            "epoch 17, loss 0.02122589200735092\n",
            "epoch 18, loss 0.0220780186355114\n",
            "epoch 19, loss 0.02338247187435627\n",
            "epoch 20, loss 0.02477165311574936, eval loss 0.23123624920845032\n",
            "epoch 21, loss 0.025212297216057777\n",
            "epoch 22, loss 0.025139035657048225\n",
            "epoch 23, loss 0.024635758250951767\n",
            "epoch 24, loss 0.023289456963539124\n",
            "epoch 25, loss 0.02169725112617016\n",
            "epoch 26, loss 0.01993623562157154\n",
            "epoch 27, loss 0.01785889081656933\n",
            "epoch 28, loss 0.01637560874223709\n",
            "epoch 29, loss 0.015237372368574142\n",
            "epoch 30, loss 0.014703829772770405\n",
            "epoch 31, loss 0.014869610778987408\n",
            "epoch 32, loss 0.01510231476277113\n",
            "epoch 33, loss 0.015063149854540825\n",
            "epoch 34, loss 0.013964233919978142\n",
            "epoch 35, loss 0.012527736835181713\n",
            "epoch 36, loss 0.01091446541249752\n",
            "epoch 37, loss 0.009480947628617287\n",
            "epoch 38, loss 0.00832329224795103\n",
            "epoch 39, loss 0.007654757704585791\n",
            "epoch 40, loss 0.006980385631322861, eval loss 0.05757787078619003\n",
            "epoch 41, loss 0.006377146579325199\n",
            "epoch 42, loss 0.005405408330261707\n",
            "epoch 43, loss 0.004110640846192837\n",
            "epoch 44, loss 0.0033068209886550903\n",
            "epoch 45, loss 0.003611297346651554\n",
            "epoch 46, loss 0.0035853288136422634\n",
            "epoch 47, loss 0.0030080729629844427\n",
            "epoch 48, loss 0.002356023993343115\n",
            "epoch 49, loss 0.0025408158544451\n",
            "epoch 50, loss 0.003032467095181346\n",
            "epoch 51, loss 0.002870219759643078\n",
            "epoch 52, loss 0.0025081178173422813\n",
            "epoch 53, loss 0.002320388797670603\n",
            "epoch 54, loss 0.0026785521768033504\n",
            "epoch 55, loss 0.0023764402139931917\n",
            "epoch 56, loss 0.002223466755822301\n",
            "epoch 57, loss 0.002071190858259797\n",
            "epoch 58, loss 0.002024291083216667\n",
            "epoch 59, loss 0.002121589845046401\n",
            "epoch 60, loss 0.0018539931625127792, eval loss 0.037552159279584885\n",
            "epoch 61, loss 0.0017036012141034007\n",
            "epoch 62, loss 0.0016226263251155615\n",
            "epoch 63, loss 0.0017230127705261111\n",
            "epoch 64, loss 0.0017408884596079588\n",
            "epoch 65, loss 0.001658448250964284\n",
            "epoch 66, loss 0.0015478665009140968\n",
            "epoch 67, loss 0.0015316142234951258\n",
            "epoch 68, loss 0.001561301527544856\n",
            "epoch 69, loss 0.0015963298501446843\n",
            "epoch 70, loss 0.0015326539287343621\n",
            "epoch 71, loss 0.0015595904551446438\n",
            "epoch 72, loss 0.001455135177820921\n",
            "epoch 73, loss 0.0014246328501030803\n",
            "epoch 74, loss 0.001594573026522994\n",
            "epoch 75, loss 0.0015641177305951715\n",
            "epoch 76, loss 0.0014706678921356797\n",
            "epoch 77, loss 0.0014738446334376931\n",
            "epoch 78, loss 0.0014155373210087419\n",
            "epoch 79, loss 0.00148602609988302\n",
            "epoch 80, loss 0.0014116622041910887, eval loss 0.045873310416936874\n",
            "epoch 81, loss 0.0014690649695694447\n",
            "epoch 82, loss 0.0014119973639026284\n",
            "epoch 83, loss 0.001392509788274765\n",
            "epoch 84, loss 0.0013580090599134564\n",
            "epoch 85, loss 0.0014176887925714254\n",
            "epoch 86, loss 0.0013570532901212573\n",
            "epoch 87, loss 0.0013028179528191686\n",
            "epoch 88, loss 0.0013957886258140206\n",
            "epoch 89, loss 0.0013168519362807274\n",
            "epoch 90, loss 0.0012754773488268256\n",
            "epoch 91, loss 0.0013556634075939655\n",
            "epoch 92, loss 0.0014546471647918224\n",
            "epoch 93, loss 0.0012899559224024415\n",
            "epoch 94, loss 0.0014375693863257766\n",
            "epoch 95, loss 0.001381770009174943\n",
            "epoch 96, loss 0.0013055596500635147\n",
            "epoch 97, loss 0.0013183584669604897\n",
            "epoch 98, loss 0.001350455917418003\n",
            "epoch 99, loss 0.0013667852617800236\n",
            "epoch 100, loss 0.0012835818342864513, eval loss 0.03553174436092377\n",
            "epoch 101, loss 0.0014183366438373923\n",
            "epoch 102, loss 0.0014124010922387242\n",
            "epoch 103, loss 0.0012627334799617529\n",
            "epoch 104, loss 0.0012585592921823263\n",
            "epoch 105, loss 0.001248425804078579\n",
            "epoch 106, loss 0.001328261918388307\n",
            "epoch 107, loss 0.0013064539525657892\n",
            "epoch 108, loss 0.0013023935025557876\n",
            "epoch 109, loss 0.0012348974123597145\n",
            "epoch 110, loss 0.0013605867279693484\n",
            "epoch 111, loss 0.0013557967031374574\n",
            "epoch 112, loss 0.0013090819120407104\n",
            "epoch 113, loss 0.0012448988854885101\n",
            "epoch 114, loss 0.001241906313225627\n",
            "epoch 115, loss 0.0012696245685219765\n",
            "epoch 116, loss 0.0012582342606037855\n",
            "epoch 117, loss 0.0011863287072628736\n",
            "epoch 118, loss 0.0012050502700731158\n",
            "epoch 119, loss 0.0012639270862564445\n",
            "epoch 120, loss 0.0013647890882566571, eval loss 0.0310964435338974\n",
            "epoch 121, loss 0.0012724139960482717\n",
            "epoch 122, loss 0.0012914820108562708\n",
            "epoch 123, loss 0.0011949765030294657\n",
            "epoch 124, loss 0.0011932292254641652\n",
            "epoch 125, loss 0.0011461683316156268\n",
            "epoch 126, loss 0.0012299607042223215\n",
            "epoch 127, loss 0.0012407820904627442\n",
            "epoch 128, loss 0.001300175441429019\n",
            "epoch 129, loss 0.001270148204639554\n",
            "epoch 130, loss 0.001229620655067265\n",
            "epoch 131, loss 0.001192533760331571\n",
            "epoch 132, loss 0.0012120540486648679\n",
            "epoch 133, loss 0.0012868059566244483\n",
            "epoch 134, loss 0.0012134099379181862\n",
            "epoch 135, loss 0.0011735813459381461\n",
            "epoch 136, loss 0.0012128049274906516\n",
            "epoch 137, loss 0.0013131228042766452\n",
            "epoch 138, loss 0.0011135009117424488\n",
            "epoch 139, loss 0.0011339576449245214\n",
            "epoch 140, loss 0.0011925417929887772, eval loss 0.028595196083188057\n",
            "epoch 141, loss 0.0011580906575545669\n",
            "epoch 142, loss 0.001199890160933137\n",
            "epoch 143, loss 0.0011691864347085357\n",
            "epoch 144, loss 0.0011909500462934375\n",
            "epoch 145, loss 0.0012299573281779885\n",
            "epoch 146, loss 0.0013569165021181107\n",
            "epoch 147, loss 0.001206275774165988\n",
            "epoch 148, loss 0.0011594606330618262\n",
            "epoch 149, loss 0.001129676355049014\n",
            "epoch 150, loss 0.0011408100835978985\n",
            "epoch 151, loss 0.0011546288151293993\n",
            "epoch 152, loss 0.0012740445090457797\n",
            "epoch 153, loss 0.0011493475176393986\n",
            "epoch 154, loss 0.001226907828822732\n",
            "epoch 155, loss 0.0011489210883155465\n",
            "epoch 156, loss 0.0011452212929725647\n",
            "epoch 157, loss 0.0011567049659788609\n",
            "epoch 158, loss 0.0012652314035221934\n",
            "epoch 159, loss 0.0011931498302146792\n",
            "epoch 160, loss 0.0011704580392688513, eval loss 0.024192411452531815\n",
            "epoch 161, loss 0.0011987858451902866\n",
            "epoch 162, loss 0.001138747320510447\n",
            "epoch 163, loss 0.0011996547691524029\n",
            "epoch 164, loss 0.0011184588074684143\n",
            "epoch 165, loss 0.001109698205254972\n",
            "epoch 166, loss 0.0012373807840049267\n",
            "epoch 167, loss 0.0011641907040029764\n",
            "epoch 168, loss 0.0011065092403441668\n",
            "epoch 169, loss 0.0011425511911511421\n",
            "epoch 170, loss 0.0011627519270405173\n",
            "epoch 171, loss 0.0011847097193822265\n",
            "epoch 172, loss 0.0011392752639949322\n",
            "epoch 173, loss 0.0011896895011886954\n",
            "epoch 174, loss 0.0011473095510154963\n",
            "epoch 175, loss 0.0011190850054845214\n",
            "epoch 176, loss 0.0010743802413344383\n",
            "epoch 177, loss 0.0011309871915727854\n",
            "epoch 178, loss 0.0010840065078809857\n",
            "epoch 179, loss 0.00103181938175112\n",
            "epoch 180, loss 0.0011074612848460674, eval loss 0.021886488422751427\n",
            "epoch 181, loss 0.0010975940385833383\n",
            "epoch 182, loss 0.0010641302214935422\n",
            "epoch 183, loss 0.00116133620031178\n",
            "epoch 184, loss 0.0011137534165754914\n",
            "epoch 185, loss 0.0011260667815804482\n",
            "epoch 186, loss 0.001198131125420332\n",
            "epoch 187, loss 0.001151250908151269\n",
            "epoch 188, loss 0.0010345407063141465\n",
            "epoch 189, loss 0.0011743231443688273\n",
            "epoch 190, loss 0.001157863880507648\n",
            "epoch 191, loss 0.0010965316323563457\n",
            "epoch 192, loss 0.001100168563425541\n",
            "epoch 193, loss 0.0010421003680676222\n",
            "epoch 194, loss 0.0011018102522939444\n",
            "epoch 195, loss 0.0010905906092375517\n",
            "epoch 196, loss 0.0010367835639044642\n",
            "epoch 197, loss 0.0011217424180358648\n",
            "epoch 198, loss 0.0010473019210621715\n",
            "epoch 199, loss 0.0010768352076411247\n",
            "epoch 200, loss 0.0011433456093072891, eval loss 0.021837694570422173\n",
            "epoch 201, loss 0.0010412037372589111\n",
            "epoch 202, loss 0.0011466415598988533\n",
            "epoch 203, loss 0.0010669499170035124\n",
            "epoch 204, loss 0.0009979614987969398\n",
            "epoch 205, loss 0.001137057552114129\n",
            "epoch 206, loss 0.001132004545070231\n",
            "epoch 207, loss 0.0011491663753986359\n",
            "epoch 208, loss 0.0010704497108235955\n",
            "epoch 209, loss 0.0010246963938698173\n",
            "epoch 210, loss 0.001111502991989255\n",
            "epoch 211, loss 0.0010012226412072778\n",
            "epoch 212, loss 0.0011006243294104934\n",
            "epoch 213, loss 0.0010968048591166735\n",
            "epoch 214, loss 0.0011106274323537946\n",
            "epoch 215, loss 0.001011896412819624\n",
            "epoch 216, loss 0.0009823995642364025\n",
            "epoch 217, loss 0.000988946296274662\n",
            "epoch 218, loss 0.0010059502674266696\n",
            "epoch 219, loss 0.0010714264353737235\n",
            "epoch 220, loss 0.0010447936365380883, eval loss 0.018401240929961205\n",
            "epoch 221, loss 0.0011162152513861656\n",
            "epoch 222, loss 0.0010225175647065043\n",
            "epoch 223, loss 0.0009985283249989152\n",
            "epoch 224, loss 0.0011229007504880428\n",
            "epoch 225, loss 0.0010078144259750843\n",
            "epoch 226, loss 0.0010090917348861694\n",
            "epoch 227, loss 0.0009861564030870795\n",
            "epoch 228, loss 0.0009841776918619871\n",
            "epoch 229, loss 0.001009378582239151\n",
            "epoch 230, loss 0.001071855193004012\n",
            "epoch 231, loss 0.0010837290901690722\n",
            "epoch 232, loss 0.0011036440264433622\n",
            "epoch 233, loss 0.001019345480017364\n",
            "epoch 234, loss 0.0009617158211767673\n",
            "epoch 235, loss 0.0009807286551222205\n",
            "epoch 236, loss 0.000978493015281856\n",
            "epoch 237, loss 0.0010161777026951313\n",
            "epoch 238, loss 0.0009484158945269883\n",
            "epoch 239, loss 0.0009735385538078845\n",
            "epoch 240, loss 0.0010517328046262264, eval loss 0.017281943932175636\n",
            "epoch 241, loss 0.0009938442381098866\n",
            "epoch 242, loss 0.00100041925907135\n",
            "epoch 243, loss 0.0010344694601371884\n",
            "epoch 244, loss 0.0009903365280479193\n",
            "epoch 245, loss 0.000997029128484428\n",
            "epoch 246, loss 0.0009729835437610745\n",
            "epoch 247, loss 0.0009364911820739508\n",
            "epoch 248, loss 0.0009956585709005594\n",
            "epoch 249, loss 0.0010172000620514154\n",
            "epoch 250, loss 0.0008789843413978815\n",
            "epoch 251, loss 0.0009517150465399027\n",
            "epoch 252, loss 0.0010333191603422165\n",
            "epoch 253, loss 0.0009675807668827474\n",
            "epoch 254, loss 0.0010003299685195088\n",
            "epoch 255, loss 0.001009357045404613\n",
            "epoch 256, loss 0.0009453686652705073\n",
            "epoch 257, loss 0.0009855307871475816\n",
            "epoch 258, loss 0.0009842481231316924\n",
            "epoch 259, loss 0.0009530223906040192\n",
            "epoch 260, loss 0.0009717281209304929, eval loss 0.01139218732714653\n",
            "epoch 261, loss 0.0009443528833799064\n",
            "epoch 262, loss 0.0009288404253311455\n",
            "epoch 263, loss 0.0008828325080685318\n",
            "epoch 264, loss 0.0009106603101827204\n",
            "epoch 265, loss 0.0009851561626419425\n",
            "epoch 266, loss 0.0009202961227856576\n",
            "epoch 267, loss 0.000981640419922769\n",
            "epoch 268, loss 0.0009395431843586266\n",
            "epoch 269, loss 0.0009825448505580425\n",
            "epoch 270, loss 0.0009495864505879581\n",
            "epoch 271, loss 0.0009014666429720819\n",
            "epoch 272, loss 0.0008972295909188688\n",
            "epoch 273, loss 0.0010356375714764\n",
            "epoch 274, loss 0.0009888139320537448\n",
            "epoch 275, loss 0.0009069559746421874\n",
            "epoch 276, loss 0.0009180528577417135\n",
            "epoch 277, loss 0.0008780002826824784\n",
            "epoch 278, loss 0.0009440980502404273\n",
            "epoch 279, loss 0.0008694917196407914\n",
            "epoch 280, loss 0.0009183945949189365, eval loss 0.009934133850038052\n",
            "epoch 281, loss 0.0009143853676505387\n",
            "epoch 282, loss 0.0008539286791346967\n",
            "epoch 283, loss 0.0008992692455649376\n",
            "epoch 284, loss 0.0009030575165525079\n",
            "epoch 285, loss 0.0009731543250381947\n",
            "epoch 286, loss 0.0009139715693891048\n",
            "epoch 287, loss 0.0008125205640681088\n",
            "epoch 288, loss 0.000851804914418608\n",
            "epoch 289, loss 0.0008292954880744219\n",
            "epoch 290, loss 0.000894470140337944\n",
            "epoch 291, loss 0.0008820469374768436\n",
            "epoch 292, loss 0.0008136564865708351\n",
            "epoch 293, loss 0.0009170583798550069\n",
            "epoch 294, loss 0.0008217248832806945\n",
            "epoch 295, loss 0.0009089329396374524\n",
            "epoch 296, loss 0.0008778844494372606\n",
            "epoch 297, loss 0.0008733884315006435\n",
            "epoch 298, loss 0.0008422259707003832\n",
            "epoch 299, loss 0.000955154886469245\n"
          ]
        }
      ]
    },
    {
      "cell_type": "code",
      "metadata": {
        "id": "7jxit4ppO9Q4",
        "colab": {
          "base_uri": "https://localhost:8080/"
        },
        "outputId": "69d366cf-a3c6-4112-fa25-8b3d29acfb32"
      },
      "source": [
        "# display weights for the 64 hidden features after training \n",
        "rnn.out.weight "
      ],
      "execution_count": null,
      "outputs": [
        {
          "output_type": "execute_result",
          "data": {
            "text/plain": [
              "Parameter containing:\n",
              "tensor([[ 0.1109, -0.1144,  0.0994, -0.0532,  0.1257,  0.0243,  0.1003, -0.0284,\n",
              "         -0.0035, -0.0259, -0.0148,  0.0517,  0.0296, -0.0952, -0.0326, -0.0199,\n",
              "          0.0175,  0.0579,  0.0688, -0.1149, -0.0259,  0.1163, -0.0165,  0.1267,\n",
              "         -0.0113, -0.0472,  0.0410, -0.1353, -0.0634,  0.1108,  0.0050,  0.1040,\n",
              "         -0.0318,  0.0246, -0.0147,  0.0254,  0.1356,  0.0707, -0.0538, -0.0742,\n",
              "          0.0410,  0.0571, -0.0118, -0.0216, -0.0418,  0.0980,  0.0140, -0.1105,\n",
              "          0.0002,  0.0124, -0.0224,  0.0930, -0.0853, -0.0265, -0.1034,  0.1286,\n",
              "         -0.0530,  0.1072, -0.1126, -0.0005, -0.0839, -0.0088,  0.0248,  0.1220]],\n",
              "       device='cuda:0', requires_grad=True)"
            ]
          },
          "metadata": {},
          "execution_count": 17
        }
      ]
    },
    {
      "cell_type": "code",
      "metadata": {
        "id": "4SysHfTsOtPz",
        "colab": {
          "base_uri": "https://localhost:8080/"
        },
        "outputId": "47d8cefd-0a76-4149-9c9d-8804320c948a"
      },
      "source": [
        "# display parameters for all features in all layers\n",
        "for param in rnn.parameters():\n",
        "    print(param.data)"
      ],
      "execution_count": null,
      "outputs": [
        {
          "output_type": "stream",
          "name": "stdout",
          "text": [
            "tensor([[ 0.0887,  0.0078,  0.0213,  ...,  0.0857, -0.0783, -0.0264],\n",
            "        [-0.0544,  0.0908, -0.0359,  ..., -0.0066, -0.0358,  0.1190],\n",
            "        [ 0.0031, -0.1426, -0.1291,  ...,  0.0411,  0.0166, -0.0425],\n",
            "        ...,\n",
            "        [-0.1180, -0.0539,  0.0840,  ...,  0.0840, -0.1042, -0.0950],\n",
            "        [ 0.0491, -0.0526, -0.0817,  ...,  0.0957,  0.0086, -0.0840],\n",
            "        [-0.0500,  0.1214,  0.0965,  ...,  0.0130, -0.0644,  0.1767]],\n",
            "       device='cuda:0')\n",
            "tensor([[ 0.1006,  0.0733, -0.0490,  ..., -0.0988, -0.0499, -0.0679],\n",
            "        [ 0.0008,  0.0822,  0.0412,  ..., -0.0455,  0.0314,  0.0385],\n",
            "        [-0.0527, -0.0784,  0.0957,  ...,  0.1324, -0.0794, -0.0010],\n",
            "        ...,\n",
            "        [-0.0704,  0.0526,  0.0473,  ..., -0.0795, -0.0160,  0.0981],\n",
            "        [-0.0050,  0.1056, -0.0204,  ...,  0.0762, -0.0503,  0.0421],\n",
            "        [-0.0957,  0.1214,  0.0697,  ...,  0.0295,  0.1312,  0.1064]],\n",
            "       device='cuda:0')\n",
            "tensor([ 0.0216, -0.0162,  0.0917,  0.0581,  0.0608,  0.0200, -0.0203,  0.0632,\n",
            "        -0.0957,  0.0922,  0.0776, -0.0468, -0.0118,  0.1278,  0.0662,  0.1098,\n",
            "        -0.0477,  0.0202, -0.0514, -0.0763,  0.0840,  0.1156, -0.0874, -0.0414,\n",
            "         0.0217,  0.0172,  0.0809, -0.0471,  0.0426, -0.0416,  0.0616, -0.0458,\n",
            "         0.0380, -0.0279,  0.0349, -0.0940,  0.0750,  0.0905, -0.0390,  0.0930,\n",
            "        -0.0942,  0.1053, -0.0812, -0.0994, -0.0879,  0.0701,  0.0919, -0.0125,\n",
            "         0.0274,  0.0093, -0.0807,  0.2379,  0.0028, -0.0105,  0.0874,  0.0525,\n",
            "         0.0186,  0.0983, -0.0065,  0.0907,  0.0303,  0.0706, -0.1177, -0.0435,\n",
            "         0.0564,  0.0047,  0.0701,  0.1221,  0.0421, -0.0586, -0.0579, -0.0191,\n",
            "         0.0060,  0.0548, -0.1092,  0.0788,  0.0092,  0.1271,  0.0203, -0.0603,\n",
            "        -0.1125,  0.0494, -0.0474,  0.1033,  0.1075,  0.0702,  0.1190, -0.0948,\n",
            "         0.1197, -0.1015,  0.0367, -0.0373,  0.0615,  0.0366,  0.0600,  0.1070,\n",
            "        -0.0750, -0.0396, -0.0037, -0.0379, -0.0012, -0.0422, -0.0579, -0.0977,\n",
            "        -0.0111, -0.0930, -0.0076, -0.0123,  0.0689, -0.1107,  0.1045,  0.0903,\n",
            "         0.0597,  0.0725,  0.0657,  0.1091,  0.1185, -0.0680,  0.1237, -0.1187,\n",
            "        -0.0667, -0.0800, -0.0094, -0.0215, -0.0161, -0.0125, -0.0804, -0.0785,\n",
            "         0.0807, -0.0706, -0.0157,  0.0567, -0.1089,  0.0920, -0.0952,  0.0509,\n",
            "        -0.0221, -0.0517,  0.1048,  0.0544,  0.0413, -0.0597, -0.0802,  0.0769,\n",
            "        -0.0715,  0.0239, -0.0340,  0.1126, -0.0550, -0.0435, -0.0126,  0.0392,\n",
            "         0.0102, -0.0060,  0.0657, -0.0885, -0.1133, -0.1113,  0.0212,  0.0813,\n",
            "        -0.1008,  0.0337,  0.0091, -0.0124,  0.0155,  0.0313,  0.1204, -0.0541,\n",
            "         0.1048,  0.0725, -0.0263, -0.0620, -0.1199,  0.0268,  0.0576, -0.1146,\n",
            "        -0.0847, -0.0666, -0.0853,  0.0163,  0.0386, -0.0366,  0.1244, -0.0568,\n",
            "        -0.1187, -0.0102, -0.0133,  0.0008, -0.0150, -0.0217,  0.0239, -0.0477,\n",
            "        -0.0977,  0.0748,  0.0124,  0.0697, -0.0638, -0.1000,  0.1046, -0.0872,\n",
            "         0.0153,  0.1051, -0.0432,  0.0904,  0.0015,  0.0649,  0.0771, -0.1114,\n",
            "        -0.0269,  0.1011,  0.0893, -0.0541,  0.1350,  0.0229,  0.0647, -0.1048,\n",
            "        -0.0173,  0.1018,  0.0703,  0.1297,  0.1090,  0.1278,  0.0968, -0.0140,\n",
            "        -0.0452, -0.0429,  0.0504,  0.0230,  0.1054,  0.0417, -0.0508,  0.0389,\n",
            "         0.0973,  0.0448,  0.1520,  0.0868, -0.0567,  0.0838, -0.0666,  0.1332,\n",
            "         0.1052,  0.0267,  0.1156,  0.1500, -0.0632, -0.0081, -0.1167,  0.0766,\n",
            "         0.1410, -0.0121, -0.0087,  0.0588, -0.0041, -0.1242, -0.0201, -0.1093],\n",
            "       device='cuda:0')\n",
            "tensor([ 2.7134e-02,  1.5556e-02, -5.1141e-02,  8.4118e-02, -1.1974e-01,\n",
            "         4.5486e-02, -9.6701e-02,  9.1721e-02,  4.1148e-02,  4.8721e-02,\n",
            "        -7.7769e-02,  6.4380e-02,  1.1771e-02, -9.9806e-02, -1.0016e-01,\n",
            "         9.8558e-02,  1.0997e-02, -1.2935e-01,  6.6444e-02, -5.7275e-02,\n",
            "        -5.7000e-02,  1.3935e-01,  7.2223e-02,  1.0237e-01,  6.4573e-02,\n",
            "        -1.4636e-02,  4.4048e-02,  1.3165e-01, -1.6023e-03, -2.3307e-02,\n",
            "         1.2749e-01,  1.1081e-01, -1.0835e-01, -9.6689e-03,  5.4462e-02,\n",
            "        -1.2302e-01, -4.5721e-02,  2.9249e-02, -7.5859e-02,  7.0998e-02,\n",
            "        -6.6839e-02, -1.0504e-02,  3.6337e-02,  6.7929e-02,  8.2950e-03,\n",
            "         6.3018e-02, -3.9737e-02,  5.4618e-02,  3.5001e-02, -8.5487e-02,\n",
            "        -3.5819e-02,  2.1772e-01, -1.7434e-02,  2.7301e-02,  7.4524e-02,\n",
            "         2.1865e-02,  6.7979e-03, -3.4628e-02,  1.2313e-01,  4.8645e-02,\n",
            "         1.0809e-02, -4.7818e-02,  5.4936e-02,  1.9312e-02,  5.0325e-03,\n",
            "        -5.3019e-02,  6.1158e-02,  9.9250e-02, -3.6576e-02,  1.2129e-01,\n",
            "        -1.9066e-04,  6.5023e-02,  6.0652e-02,  9.2833e-02, -1.0391e-01,\n",
            "         3.9122e-02, -6.9521e-02,  2.5383e-02,  4.0824e-02, -1.0982e-01,\n",
            "         9.1870e-02, -1.6947e-02, -4.9735e-02, -1.0088e-01, -5.4385e-02,\n",
            "        -6.3029e-02,  9.1682e-02,  1.2537e-02, -3.8388e-02,  1.5462e-02,\n",
            "        -8.3047e-02, -9.6453e-02, -3.3823e-02, -4.7042e-02, -4.6405e-02,\n",
            "         9.3220e-02,  2.2453e-02, -5.7994e-02, -1.2950e-02, -3.9130e-02,\n",
            "         4.5075e-02,  7.4704e-02,  5.0949e-02,  8.2891e-02,  5.8887e-02,\n",
            "         1.1678e-01,  1.4129e-01,  5.5448e-02,  1.6943e-02,  7.0579e-02,\n",
            "        -1.1378e-01,  3.8157e-02,  2.8988e-02,  6.8422e-02,  1.9175e-02,\n",
            "         6.3764e-02, -1.1477e-01, -6.1883e-02,  1.5254e-02, -9.4932e-02,\n",
            "         1.0509e-01, -1.0074e-01, -5.2659e-02, -5.6306e-02,  7.9989e-03,\n",
            "         1.1062e-02,  6.5922e-02, -1.0537e-01,  7.2803e-02, -7.3467e-03,\n",
            "        -2.2386e-02, -1.0153e-01, -8.4606e-02,  6.5297e-02, -3.8690e-02,\n",
            "        -2.3791e-02,  1.0660e-01, -1.0304e-01,  9.5860e-02,  7.1088e-02,\n",
            "        -8.3142e-02,  1.0925e-01, -8.3632e-02,  5.5034e-02, -1.0492e-01,\n",
            "         3.4715e-02, -7.9736e-02,  7.1586e-02, -1.2442e-01, -9.0362e-02,\n",
            "         2.4495e-02,  5.3730e-02, -1.7331e-02,  2.3527e-02,  9.5402e-02,\n",
            "        -5.6590e-02, -4.9203e-02,  4.0893e-02, -4.0290e-02, -6.4271e-02,\n",
            "         8.5903e-02,  1.1062e-01, -2.7344e-02,  4.4946e-02, -9.6394e-02,\n",
            "        -4.7930e-02,  4.5502e-02,  1.1832e-01,  5.6584e-03,  6.7784e-02,\n",
            "        -4.1725e-02,  1.2784e-01, -1.8251e-02, -1.9847e-02, -4.3371e-02,\n",
            "         1.0197e-01,  1.0584e-01, -8.7053e-02,  4.9355e-02,  8.6653e-02,\n",
            "         3.4276e-02, -9.8812e-02, -6.8529e-02,  9.9602e-02,  1.0163e-01,\n",
            "         1.9889e-02,  3.5937e-02, -9.6000e-02, -7.8844e-03, -7.4177e-02,\n",
            "         9.9161e-02,  5.1430e-02, -1.4257e-03,  2.0749e-02,  2.4332e-02,\n",
            "        -3.5157e-02, -1.0366e-01, -1.0155e-01, -3.3910e-02, -7.2631e-02,\n",
            "        -3.5942e-02, -9.8311e-02,  1.0741e-01,  7.0520e-02, -7.8253e-02,\n",
            "         9.8878e-02,  2.4317e-02,  8.0627e-02, -5.3977e-02, -1.0485e-01,\n",
            "        -6.3554e-02,  5.0990e-02,  6.9786e-02,  6.5986e-02,  1.2190e-01,\n",
            "        -7.2751e-03,  7.4743e-02, -5.4797e-02,  1.1849e-01,  4.9867e-02,\n",
            "        -1.0200e-01, -6.2127e-02, -6.7031e-02,  1.2469e-02, -9.0247e-02,\n",
            "         2.0246e-02, -8.9364e-02,  8.8925e-02, -7.9806e-03,  8.8823e-02,\n",
            "        -2.5833e-03,  8.4604e-02, -1.1176e-01,  7.0380e-02, -8.9411e-02,\n",
            "        -2.2817e-03, -1.1015e-02, -1.0666e-01,  1.0868e-01,  7.9445e-02,\n",
            "        -1.0084e-01, -3.4186e-02,  1.3232e-01,  1.6857e-02,  9.9271e-02,\n",
            "         1.1871e-01,  4.1362e-03,  2.1220e-02, -6.1103e-02, -6.5308e-02,\n",
            "         1.5842e-02,  1.0760e-01, -2.8622e-02, -1.3821e-01, -1.1002e-01,\n",
            "         9.1376e-02], device='cuda:0')\n",
            "tensor([[-0.0079,  0.0816,  0.0184,  ..., -0.0646,  0.0291,  0.0959],\n",
            "        [ 0.0102,  0.1215,  0.0508,  ..., -0.0356, -0.0163,  0.0681],\n",
            "        [-0.0090,  0.0463, -0.0539,  ...,  0.1191, -0.0014,  0.1136],\n",
            "        ...,\n",
            "        [-0.0922,  0.0127, -0.0974,  ..., -0.0817,  0.0280,  0.0796],\n",
            "        [-0.0026, -0.0452,  0.0800,  ...,  0.0789,  0.1204,  0.0072],\n",
            "        [-0.0572, -0.0776, -0.0310,  ..., -0.0112, -0.0470,  0.0617]],\n",
            "       device='cuda:0')\n",
            "tensor([[-0.0706, -0.0733, -0.0478,  ...,  0.1066,  0.1173,  0.0028],\n",
            "        [-0.1188,  0.0113, -0.1182,  ..., -0.0497, -0.1065, -0.0983],\n",
            "        [ 0.0956, -0.0760, -0.0962,  ..., -0.0750,  0.0387, -0.0208],\n",
            "        ...,\n",
            "        [-0.0223, -0.1322,  0.0889,  ...,  0.0194, -0.1435, -0.0261],\n",
            "        [-0.0736, -0.0026,  0.0172,  ..., -0.0081,  0.0614,  0.0369],\n",
            "        [-0.1184, -0.0547,  0.0612,  ..., -0.0646, -0.0482, -0.0563]],\n",
            "       device='cuda:0')\n",
            "tensor([ 0.0231, -0.0425,  0.0881, -0.0334,  0.0214, -0.0981,  0.0057, -0.0063,\n",
            "        -0.0607, -0.1088, -0.0996, -0.0564,  0.0384,  0.1074,  0.0539,  0.0538,\n",
            "         0.0386,  0.1014, -0.0637, -0.0933, -0.0037, -0.0059, -0.0506, -0.0920,\n",
            "         0.0950, -0.0914,  0.0363, -0.0321,  0.0735,  0.1220, -0.0134,  0.1288,\n",
            "         0.0527, -0.0417,  0.1172,  0.0447, -0.1294,  0.0288, -0.0343,  0.0838,\n",
            "         0.0197, -0.0816, -0.0877,  0.0143,  0.0334, -0.0879, -0.0050, -0.0823,\n",
            "         0.1178,  0.1072, -0.0976,  0.0800, -0.1012, -0.1166, -0.0032,  0.1126,\n",
            "        -0.0963,  0.0673,  0.0261, -0.0143, -0.0522,  0.0890, -0.1002, -0.0090,\n",
            "         0.1055, -0.0046, -0.0059,  0.0128,  0.0938,  0.1050, -0.1168, -0.1168,\n",
            "         0.0864, -0.0854,  0.1039, -0.0936, -0.1079,  0.0925,  0.0222, -0.0315,\n",
            "         0.1062, -0.0472, -0.0648, -0.0745,  0.0327, -0.0717, -0.0828, -0.0978,\n",
            "         0.0854,  0.0485,  0.1153,  0.0019,  0.0383, -0.0039,  0.0524, -0.0910,\n",
            "         0.0235, -0.1034, -0.0579,  0.0635,  0.0755,  0.0221,  0.1322, -0.0122,\n",
            "        -0.0146,  0.0719, -0.0915, -0.0266, -0.0848, -0.0007, -0.0143, -0.0730,\n",
            "        -0.1235,  0.1144,  0.0938, -0.0758, -0.0361, -0.0163,  0.0230,  0.0087,\n",
            "         0.0611, -0.0764,  0.1025, -0.0978, -0.0074,  0.0958, -0.0219,  0.0914,\n",
            "         0.0137, -0.0529, -0.1124, -0.0323,  0.0884,  0.1097,  0.1237, -0.0713,\n",
            "         0.0184, -0.0419,  0.0099, -0.0725, -0.0453,  0.1235,  0.0528, -0.0729,\n",
            "        -0.1114, -0.0895, -0.0643,  0.1187, -0.1143,  0.0923, -0.0464, -0.0616,\n",
            "        -0.0134, -0.0817, -0.0825, -0.0691,  0.1217,  0.0596,  0.0632, -0.0328,\n",
            "         0.0524, -0.0914, -0.0841, -0.1263, -0.0335, -0.0765,  0.0541,  0.0022,\n",
            "        -0.0130, -0.0095, -0.0925, -0.0157,  0.0386, -0.0598, -0.0342, -0.0399,\n",
            "        -0.0210, -0.0742,  0.0028,  0.0885, -0.0697, -0.0270,  0.1009,  0.0617,\n",
            "        -0.0649, -0.0500,  0.0906,  0.0689, -0.0993,  0.0439, -0.0916, -0.0021,\n",
            "        -0.0591, -0.0912, -0.0556, -0.0009, -0.0964, -0.0101,  0.0630,  0.1362,\n",
            "        -0.1255, -0.0303, -0.0745, -0.0484, -0.0106, -0.0494,  0.1314, -0.1195,\n",
            "         0.0668,  0.0504,  0.0987, -0.0615,  0.0954,  0.0090, -0.0739, -0.0317,\n",
            "         0.0195,  0.0143, -0.1152,  0.0227,  0.1206,  0.1306,  0.0647,  0.0328,\n",
            "        -0.0647,  0.0409, -0.0431,  0.1258, -0.0440,  0.0445,  0.0435, -0.0192,\n",
            "        -0.0625,  0.0140, -0.0236, -0.0334,  0.1238, -0.0841,  0.0314, -0.0036,\n",
            "         0.0255,  0.0861, -0.1252, -0.0498,  0.1124,  0.1050, -0.0235, -0.1051,\n",
            "         0.0430, -0.0908,  0.0805, -0.0491, -0.0648, -0.0512,  0.1085, -0.0561],\n",
            "       device='cuda:0')\n",
            "tensor([ 0.0809, -0.0542, -0.1226, -0.0039,  0.1182, -0.0779,  0.0195,  0.0746,\n",
            "         0.0950,  0.0040,  0.0036, -0.0495, -0.0909, -0.0236, -0.0455, -0.1192,\n",
            "        -0.0742, -0.1232, -0.0064,  0.1207, -0.0093, -0.0182,  0.1028,  0.0848,\n",
            "         0.0143,  0.0158, -0.1126, -0.0450,  0.0119,  0.0395, -0.0629,  0.0329,\n",
            "        -0.0639, -0.0231, -0.0300, -0.0484, -0.0674, -0.0557,  0.0050, -0.0432,\n",
            "         0.0394, -0.1193,  0.0854,  0.0456,  0.0215, -0.0209,  0.0429, -0.0228,\n",
            "         0.1022, -0.0444,  0.0549, -0.1126, -0.0259, -0.0039, -0.0649, -0.0454,\n",
            "         0.0179,  0.0819,  0.0579, -0.0275, -0.1090,  0.0703, -0.0432,  0.0795,\n",
            "        -0.0207, -0.0021,  0.0149,  0.0785, -0.0828, -0.0324, -0.1066,  0.0579,\n",
            "         0.0143,  0.0774,  0.0097, -0.0995,  0.0046,  0.0748, -0.0040, -0.0400,\n",
            "        -0.0320,  0.0117,  0.1013, -0.0253,  0.0202, -0.0700, -0.0134, -0.1097,\n",
            "        -0.0388, -0.0024, -0.0145,  0.1069, -0.0180,  0.0129, -0.1141,  0.0499,\n",
            "        -0.0762, -0.0404,  0.1184, -0.0716, -0.0622,  0.0703, -0.0619, -0.0356,\n",
            "        -0.0058, -0.0171,  0.0205,  0.0304, -0.1096,  0.0976,  0.0157,  0.0782,\n",
            "         0.0416,  0.1267, -0.0894,  0.0188, -0.1258, -0.0753,  0.0084, -0.0476,\n",
            "        -0.0730, -0.0597, -0.1220,  0.0002, -0.0796, -0.0541, -0.0118, -0.0980,\n",
            "        -0.0894,  0.0248,  0.0121, -0.0911, -0.0785,  0.0917,  0.0951,  0.0193,\n",
            "         0.1073, -0.0837, -0.1052,  0.1007, -0.0081,  0.1242, -0.1092, -0.0074,\n",
            "         0.0629,  0.0511,  0.0450, -0.0984, -0.0539,  0.0338, -0.0004, -0.0353,\n",
            "         0.0855,  0.1133, -0.0352, -0.0267,  0.0962, -0.0425,  0.0763, -0.0399,\n",
            "         0.0606, -0.0662,  0.0397, -0.0258, -0.0751,  0.0995, -0.0408,  0.0308,\n",
            "        -0.0723, -0.1074,  0.0083,  0.0758, -0.1092,  0.0280, -0.1052,  0.0718,\n",
            "         0.1188,  0.0183,  0.0279, -0.0898,  0.1161, -0.0126, -0.0275,  0.0529,\n",
            "         0.0508,  0.0989,  0.0716, -0.0807, -0.1281, -0.0386, -0.0180,  0.0398,\n",
            "        -0.1229, -0.0790,  0.0902,  0.1348,  0.0667,  0.0607,  0.0922, -0.0822,\n",
            "        -0.0658,  0.0184, -0.0265,  0.0107,  0.0852, -0.0407,  0.0341,  0.1111,\n",
            "         0.0758,  0.0228, -0.0412, -0.0717,  0.1029, -0.0484, -0.0664,  0.0006,\n",
            "         0.0472, -0.0917,  0.0849, -0.0718,  0.1117,  0.0210, -0.0966,  0.0691,\n",
            "        -0.0211,  0.0895, -0.0286,  0.0740, -0.0073,  0.1129, -0.0575, -0.1147,\n",
            "         0.0570, -0.0422,  0.0140, -0.0669,  0.1009, -0.0789,  0.0558,  0.0266,\n",
            "        -0.0984,  0.1369, -0.1304, -0.0929, -0.0076, -0.0880,  0.0744, -0.0225,\n",
            "        -0.0197, -0.0807, -0.0428,  0.0191, -0.0523,  0.0108,  0.1189, -0.0472],\n",
            "       device='cuda:0')\n",
            "tensor([[-0.0684, -0.0041, -0.1199,  ...,  0.0770,  0.0722, -0.0058],\n",
            "        [ 0.0154, -0.0975, -0.0499,  ..., -0.1354, -0.1126, -0.0900],\n",
            "        [ 0.0688, -0.0729,  0.0263,  ...,  0.0067,  0.0327,  0.0849],\n",
            "        ...,\n",
            "        [ 0.1222, -0.0675, -0.0697,  ...,  0.0844,  0.1212, -0.0260],\n",
            "        [-0.0735, -0.0493,  0.0936,  ..., -0.0240,  0.0377, -0.0415],\n",
            "        [ 0.0614, -0.0061,  0.1035,  ...,  0.0538,  0.0496,  0.0112]],\n",
            "       device='cuda:0')\n",
            "tensor([[ 0.1020,  0.0585, -0.0255,  ...,  0.1061,  0.0417, -0.0252],\n",
            "        [ 0.0266, -0.0380, -0.0471,  ...,  0.0489, -0.0227, -0.1255],\n",
            "        [-0.1123, -0.0930,  0.0441,  ..., -0.0922, -0.0833, -0.0148],\n",
            "        ...,\n",
            "        [ 0.0719,  0.1053,  0.0580,  ...,  0.0275,  0.0246, -0.0657],\n",
            "        [ 0.0633,  0.0106, -0.0910,  ..., -0.0497, -0.0834, -0.0417],\n",
            "        [ 0.0892, -0.0921, -0.0541,  ..., -0.0444, -0.0837,  0.0746]],\n",
            "       device='cuda:0')\n",
            "tensor([-0.0706, -0.0865, -0.1336, -0.0224, -0.0300,  0.0393,  0.1208, -0.1308,\n",
            "         0.0110, -0.0910, -0.0496,  0.0663, -0.0533,  0.0270, -0.0587,  0.0861,\n",
            "         0.0882, -0.0512, -0.0092,  0.0555, -0.0464, -0.0343, -0.0046,  0.0546,\n",
            "        -0.0122, -0.0850, -0.0942,  0.1253, -0.0520, -0.0471,  0.0510, -0.0721,\n",
            "        -0.0005,  0.0273,  0.0435,  0.0599, -0.0930,  0.1301,  0.0307,  0.0131,\n",
            "        -0.0129, -0.0068,  0.0252,  0.0234, -0.0721, -0.0235,  0.0690, -0.0041,\n",
            "         0.0132, -0.0968, -0.0067, -0.0744, -0.0945, -0.0958, -0.0621, -0.0811,\n",
            "        -0.1167, -0.1112, -0.0594, -0.0982, -0.0856,  0.0992, -0.0277, -0.1022,\n",
            "         0.0530, -0.0065, -0.1308, -0.1024,  0.1216,  0.0850, -0.0132, -0.0390,\n",
            "         0.0839,  0.0502, -0.0605, -0.0768,  0.1112,  0.1102, -0.0707, -0.1400,\n",
            "        -0.0816,  0.0140,  0.0566,  0.1162,  0.0045,  0.0847, -0.0454,  0.0675,\n",
            "         0.0420, -0.1070,  0.0345,  0.1083, -0.0524, -0.0017, -0.1052,  0.1211,\n",
            "         0.0190,  0.0465, -0.0982,  0.0257,  0.0258,  0.1123, -0.0790,  0.1281,\n",
            "        -0.0596,  0.0079, -0.1183,  0.0510,  0.0839, -0.1066,  0.0708, -0.0428,\n",
            "         0.0241, -0.1252,  0.0335,  0.0102, -0.0104,  0.0006, -0.0741,  0.0697,\n",
            "         0.0553, -0.0271,  0.0286,  0.0029, -0.0803, -0.1388, -0.0205,  0.0595,\n",
            "         0.0376,  0.0565, -0.0668, -0.0597,  0.0721,  0.0413,  0.0502, -0.0434,\n",
            "        -0.0143,  0.0653, -0.0394,  0.0607, -0.0006, -0.1199,  0.0284, -0.0869,\n",
            "        -0.0164,  0.0356, -0.0957, -0.0411,  0.0666, -0.0237, -0.0780,  0.0119,\n",
            "        -0.0535, -0.0224,  0.1081, -0.1252,  0.0479, -0.0334, -0.0538,  0.1198,\n",
            "        -0.0656,  0.1132,  0.0702,  0.0795,  0.0936,  0.0500, -0.0799, -0.1133,\n",
            "         0.0740,  0.0623, -0.0527, -0.0696, -0.0617, -0.0272,  0.0578,  0.1060,\n",
            "        -0.1056, -0.0375,  0.0478, -0.0192, -0.0651,  0.0684,  0.0812,  0.0817,\n",
            "        -0.1076, -0.0080, -0.0831, -0.0109, -0.1192,  0.0837, -0.0364, -0.0287,\n",
            "         0.1032,  0.0939, -0.0350,  0.1016,  0.0919, -0.0922, -0.0142, -0.0795,\n",
            "         0.0999, -0.0245,  0.0682,  0.0139,  0.0684, -0.0850,  0.0053, -0.1268,\n",
            "        -0.1273, -0.1368, -0.1322, -0.0315, -0.0088,  0.0119, -0.0328,  0.0028,\n",
            "         0.0910,  0.1049, -0.0357,  0.0183,  0.1199,  0.0993, -0.0108, -0.1118,\n",
            "         0.0971, -0.0615, -0.0554,  0.0585, -0.0865,  0.0389, -0.0269,  0.0410,\n",
            "        -0.0775, -0.0303, -0.1272, -0.0020, -0.1146,  0.0771,  0.0257,  0.0350,\n",
            "         0.0037, -0.0652, -0.0783, -0.0281,  0.1082, -0.0244, -0.0778, -0.0216,\n",
            "        -0.1167, -0.1206, -0.0758, -0.1326,  0.0803, -0.1011, -0.0834,  0.1193],\n",
            "       device='cuda:0')\n",
            "tensor([-0.0627, -0.0647,  0.1074, -0.1124,  0.0747,  0.0047,  0.0652, -0.0092,\n",
            "         0.0331,  0.0952, -0.1389,  0.0757, -0.0055,  0.0852, -0.0872,  0.1045,\n",
            "         0.0844, -0.0665,  0.0070, -0.1100,  0.0004,  0.0532,  0.0664, -0.0352,\n",
            "        -0.0689,  0.0884,  0.0308,  0.1292,  0.0064,  0.1310,  0.0541,  0.0237,\n",
            "         0.0509,  0.0459, -0.0907,  0.0140,  0.1192, -0.0594,  0.0014,  0.1191,\n",
            "         0.1159,  0.0221,  0.0251, -0.1121,  0.0878,  0.0459, -0.0611,  0.0038,\n",
            "        -0.1078, -0.1233,  0.0862, -0.0647, -0.0901, -0.0320, -0.0975,  0.0746,\n",
            "         0.0913,  0.0611, -0.0316,  0.0513, -0.0632, -0.0472, -0.1018,  0.0687,\n",
            "         0.0268, -0.0529,  0.0743, -0.0578, -0.0965, -0.0213,  0.0071,  0.0061,\n",
            "        -0.0350, -0.0434,  0.0998, -0.0836,  0.0938,  0.1257, -0.1255,  0.0323,\n",
            "         0.0802,  0.0307, -0.0682,  0.1079, -0.1025,  0.1057,  0.1033,  0.0691,\n",
            "        -0.0918,  0.0958,  0.1044,  0.0509, -0.0168,  0.0160,  0.0980, -0.0984,\n",
            "        -0.0402,  0.0948, -0.0761, -0.1254,  0.0930,  0.0061,  0.0912, -0.0039,\n",
            "        -0.0220,  0.0945, -0.1169, -0.0299, -0.1257, -0.0109, -0.1062,  0.0459,\n",
            "         0.0802, -0.0865,  0.0888,  0.0983, -0.1010,  0.1112, -0.0575,  0.0435,\n",
            "        -0.0143, -0.0245, -0.1099,  0.1007, -0.0366, -0.0955, -0.1352, -0.0085,\n",
            "         0.1101, -0.0336, -0.0937,  0.0906,  0.1179,  0.0184, -0.0221,  0.0663,\n",
            "         0.0981,  0.0928,  0.0634,  0.1261,  0.0835,  0.0213,  0.0449, -0.0774,\n",
            "        -0.0329, -0.0986, -0.0872, -0.0322,  0.0453,  0.0998,  0.0565, -0.0509,\n",
            "         0.0502, -0.0083,  0.0559, -0.1233, -0.1014,  0.0545, -0.0346, -0.0232,\n",
            "        -0.0148, -0.0611,  0.0042, -0.1047,  0.1248,  0.0316,  0.0859, -0.0488,\n",
            "         0.0179,  0.0367, -0.0333, -0.0613,  0.0827,  0.0102,  0.0033,  0.0285,\n",
            "        -0.0574,  0.0935,  0.1025, -0.1115, -0.1305, -0.1178, -0.0873, -0.0395,\n",
            "         0.0183, -0.0681,  0.0867,  0.0946, -0.0999, -0.0922,  0.0960,  0.0625,\n",
            "        -0.1170,  0.0528, -0.1217,  0.0399,  0.0176, -0.0646,  0.1247,  0.0266,\n",
            "        -0.0066,  0.0452,  0.0750, -0.0516, -0.1157,  0.0129,  0.0079,  0.0547,\n",
            "        -0.0819,  0.0208,  0.0827, -0.0857,  0.0672, -0.0739,  0.0290,  0.1001,\n",
            "        -0.0039, -0.1199, -0.0423, -0.0800,  0.0447,  0.0725,  0.0795, -0.0152,\n",
            "        -0.1020, -0.0351, -0.0514,  0.1088,  0.0025, -0.0712,  0.1096,  0.0275,\n",
            "        -0.0121,  0.1204,  0.0488,  0.0814,  0.0947, -0.0322, -0.1127, -0.0212,\n",
            "         0.0464, -0.0126,  0.0795, -0.0785, -0.0558, -0.0539, -0.0657,  0.1028,\n",
            "         0.0977,  0.0151,  0.1009,  0.0274, -0.0537, -0.0710, -0.0567,  0.0923],\n",
            "       device='cuda:0')\n",
            "tensor([[ 0.1109, -0.1144,  0.0994, -0.0532,  0.1257,  0.0243,  0.1003, -0.0284,\n",
            "         -0.0035, -0.0259, -0.0148,  0.0517,  0.0296, -0.0952, -0.0326, -0.0199,\n",
            "          0.0175,  0.0579,  0.0688, -0.1149, -0.0259,  0.1163, -0.0165,  0.1267,\n",
            "         -0.0113, -0.0472,  0.0410, -0.1353, -0.0634,  0.1108,  0.0050,  0.1040,\n",
            "         -0.0318,  0.0246, -0.0147,  0.0254,  0.1356,  0.0707, -0.0538, -0.0742,\n",
            "          0.0410,  0.0571, -0.0118, -0.0216, -0.0418,  0.0980,  0.0140, -0.1105,\n",
            "          0.0002,  0.0124, -0.0224,  0.0930, -0.0853, -0.0265, -0.1034,  0.1286,\n",
            "         -0.0530,  0.1072, -0.1126, -0.0005, -0.0839, -0.0088,  0.0248,  0.1220]],\n",
            "       device='cuda:0')\n",
            "tensor([-0.0902], device='cuda:0')\n"
          ]
        }
      ]
    },
    {
      "cell_type": "markdown",
      "metadata": {
        "id": "PY0wF6e46-JE"
      },
      "source": [
        "## Step 5: Checking model performance\n",
        "\n",
        "With our model fit we can now make predictions on both our training and testing sets."
      ]
    },
    {
      "cell_type": "code",
      "metadata": {
        "id": "6dygBlig6_XD",
        "colab": {
          "base_uri": "https://localhost:8080/",
          "height": 282
        },
        "outputId": "42b15897-823e-4b0d-c59d-dd2fa2ca1a12"
      },
      "source": [
        "# plot the history of losses in the 300 epoch training\n",
        "plt.plot(history)"
      ],
      "execution_count": null,
      "outputs": [
        {
          "output_type": "execute_result",
          "data": {
            "text/plain": [
              "[<matplotlib.lines.Line2D at 0x7fb3f9251950>]"
            ]
          },
          "metadata": {},
          "execution_count": 25
        },
        {
          "output_type": "display_data",
          "data": {
            "text/plain": [
              "<Figure size 432x288 with 1 Axes>"
            ],
            "image/png": "[encoded data removed]"
          },
          "metadata": {
            "needs_background": "light"
          }
        }
      ]
    },
    {
      "cell_type": "code",
      "metadata": {
        "id": "ScaBHhTv7Jih",
        "colab": {
          "base_uri": "https://localhost:8080/"
        },
        "outputId": "d4c25202-0bdc-43d3-9f16-b829b59ac843"
      },
      "source": [
        "# Snapshot of the test data \n",
        "X_test[0]"
      ],
      "execution_count": null,
      "outputs": [
        {
          "output_type": "execute_result",
          "data": {
            "text/plain": [
              "array([[0.53324732, 0.53097957, 0.5909131 , 0.5891313 , 0.59358582,\n",
              "        0.60338576, 0.61342868]])"
            ]
          },
          "metadata": {},
          "execution_count": 26
        }
      ]
    },
    {
      "cell_type": "code",
      "metadata": {
        "id": "hyICDKXa7Vbe"
      },
      "source": [
        "# use model on test data\n",
        "rnn.eval()\n",
        "\n",
        "test_predict, _ = rnn(X_test_cuda, hidden_state)\n",
        "test_predict_cpu = test_predict.cpu().detach().numpy()"
      ],
      "execution_count": null,
      "outputs": []
    },
    {
      "cell_type": "code",
      "metadata": {
        "id": "FwD_e6VO-cIa",
        "colab": {
          "base_uri": "https://localhost:8080/"
        },
        "outputId": "a0f7ca50-751f-4b74-b556-dec025d321d0"
      },
      "source": [
        "# see test data profile \n",
        "test_predict_cpu.shape"
      ],
      "execution_count": null,
      "outputs": [
        {
          "output_type": "execute_result",
          "data": {
            "text/plain": [
              "(251, 1, 1)"
            ]
          },
          "metadata": {},
          "execution_count": 29
        }
      ]
    },
    {
      "cell_type": "code",
      "metadata": {
        "id": "c-__h1sU7kW6",
        "colab": {
          "base_uri": "https://localhost:8080/",
          "height": 282
        },
        "outputId": "f6a76710-d8e1-4dfe-faf5-2df59c0884c7"
      },
      "source": [
        "# backtest prediction against actuals on test data\n",
        "plt.plot(sc.inverse_transform(y_test.reshape(-1,1)))\n",
        "plt.plot(sc.inverse_transform(test_predict_cpu.reshape(-1,1)))"
      ],
      "execution_count": null,
      "outputs": [
        {
          "output_type": "execute_result",
          "data": {
            "text/plain": [
              "[<matplotlib.lines.Line2D at 0x7fb3f91b0650>]"
            ]
          },
          "metadata": {},
          "execution_count": 30
        },
        {
          "output_type": "display_data",
          "data": {
            "text/plain": [
              "<Figure size 432x288 with 1 Axes>"
            ],
            "image/png": "[encoded data removed]"
          },
          "metadata": {
            "needs_background": "light"
          }
        }
      ]
    },
    {
      "cell_type": "code",
      "metadata": {
        "id": "LnMGQ5Sa8vMs",
        "colab": {
          "base_uri": "https://localhost:8080/",
          "height": 279
        },
        "outputId": "5e1aba73-0284-412f-e5ce-86158d242034"
      },
      "source": [
        "# visualize backtesting of prediction against actuals on both training and testing datasets \n",
        "# plot original data\n",
        "plt.plot(sc.inverse_transform(y.reshape(-1,1)), color='k')\n",
        "\n",
        "# train_inputs = torch.tensor(X_train).float().cuda()\n",
        "train_pred, hidden_state = rnn(inputs_cuda, None)\n",
        "train_pred_cpu = train_pred.cpu().detach().numpy()\n",
        "\n",
        "# use hidden state from previous training data\n",
        "test_predict, _ = rnn(X_test_cuda, hidden_state)\n",
        "test_predict_cpu = test_predict.cpu().detach().numpy()\n",
        "\n",
        "# plt.plot(scl.inverse_transform(y_test.reshape(-1,1)))\n",
        "split_pt = int(X.shape[0] * 0.80) + 7 # window_size\n",
        "plt.plot(np.arange(7, split_pt, 1), sc.inverse_transform(train_pred_cpu.reshape(-1,1)), color='b')\n",
        "plt.plot(np.arange(split_pt, split_pt + len(test_predict_cpu), 1), sc.inverse_transform(test_predict_cpu.reshape(-1,1)), color='r')\n",
        "\n",
        "# pretty up graph\n",
        "plt.xlabel('day')\n",
        "plt.ylabel('price of MMM stock')\n",
        "plt.legend(['original series','training fit','testing fit'], loc='center left', bbox_to_anchor=(1, 0.5))\n",
        "plt.show()\n"
      ],
      "execution_count": null,
      "outputs": [
        {
          "output_type": "display_data",
          "data": {
            "text/plain": [
              "<Figure size 432x288 with 1 Axes>"
            ],
            "image/png": "[encoded data removed]"
          },
          "metadata": {
            "needs_background": "light"
          }
        }
      ]
    }
  ]
}